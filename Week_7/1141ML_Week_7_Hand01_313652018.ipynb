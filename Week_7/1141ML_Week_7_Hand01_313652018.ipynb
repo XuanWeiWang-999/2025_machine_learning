{
 "cells": [
  {
   "cell_type": "markdown",
   "id": "14e85096",
   "metadata": {},
   "source": [
    "# Problem 1. Explain the concept of score matching"
   ]
  },
  {
   "cell_type": "markdown",
   "id": "e67aa99c",
   "metadata": {},
   "source": [
    "## 1. Concept of score matching\n",
    "We usually hope to learn the **distribution model** of a data: \n",
    "$$p(x;\\theta)=\\frac{1}{Z(\\theta)}e^{-E(x;\\theta)},$$\n",
    "where $E(x;\\theta)$ is the energy function, and $Z(\\theta)=\\int e^{E(x;\\theta)}dx$ is a **patition function**.  \n",
    "\n",
    "In the sense of MLE, the goal is to maximum $$L(\\theta)=\\mathbb{E}_{q(x)}\\ln p(x;\\theta)$$  \n",
    "\n",
    "But usually in high-dimensional data set, $Z(\\theta)$ is almost not integrable.  \n",
    "\n",
    "Hence, the goal of ***Score Matching(Hyvärinen et.al, 2005)*** is **to estimate $E(x;\\theta)$ without knowing $Z(\\theta)$.**"
   ]
  },
  {
   "cell_type": "markdown",
   "id": "498bdc13",
   "metadata": {},
   "source": [
    "### Definition\n"
   ]
  },
  {
   "cell_type": "markdown",
   "id": "51cb7fde",
   "metadata": {},
   "source": []
  },
  {
   "cell_type": "markdown",
   "id": "69165f88",
   "metadata": {},
   "source": []
  },
  {
   "cell_type": "markdown",
   "metadata": {},
   "source": []
  },
  {
   "cell_type": "markdown",
   "id": "b0624663",
   "metadata": {},
   "source": []
  }
 ],
 "metadata": {
  "language_info": {
   "name": "python"
  }
 },
 "nbformat": 4,
 "nbformat_minor": 5
}
