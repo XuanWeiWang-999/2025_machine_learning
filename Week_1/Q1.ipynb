{
 "cells": [
  {
   "cell_type": "markdown",
   "id": "e871ca17",
   "metadata": {},
   "source": [
    "# 1. \n",
    "Consider stochastic gradient descent method to learn the house price model\n",
    "    $$\n",
    "    h(x_1, x_2)=\\sigma(b + w_1x_1 + w_2x_2),\n",
    "    $$\n",
    "    where $\\sigma$ is the sigmoid function.\n",
    "\n",
    "Given one single data point $(x_1, x_2, y)=(1, 2, 3)$, and assuming that the current parameter is $\\theta^0=(b, w_1, w_2)=(4, 5, 6)$,  \n",
    "evaluate $\\theta^1$.\n",
    "\n",
    ">Just write the expression and substitute the numbers; no need to simplify or evaluate."
   ]
  },
  {
   "cell_type": "markdown",
   "id": "36bc8a6e",
   "metadata": {},
   "source": [
    "## Solution 1\n",
    "We put $(x_1, x_2)$ into $h$ such that we have $$h(1,2)=\\sigma(4+5\\cdot 1+6\\cdot 2).$$  \n",
    "Then we have \n",
    "$$\\begin{aligned}\n",
    "    b^1 &= 4-\\alpha\\cdot(h(1,2)-3)\\\\\n",
    "    w_1^1 &= 5-\\alpha\\cdot(h(1,2)-3)\\cdot 1\\\\\n",
    "    w_2^1 &= 6-\\alpha\\cdot(h(1,2)-3)\\cdot 2\n",
    "\\end{aligned}$$"
   ]
  },
  {
   "cell_type": "markdown",
   "id": "b5a7812e",
   "metadata": {},
   "source": [
    "Hence, $$\\theta^1=(4-\\alpha\\cdot(h(1,2)-3), 5-\\alpha\\cdot(h(1,2)-3)\\cdot 1, 6-\\alpha\\cdot(h(1,2)-3)\\cdot 2).$$"
   ]
  },
  {
   "cell_type": "markdown",
   "id": "5dddf953",
   "metadata": {},
   "source": []
  }
 ],
 "metadata": {
  "language_info": {
   "name": "python"
  }
 },
 "nbformat": 4,
 "nbformat_minor": 5
}
