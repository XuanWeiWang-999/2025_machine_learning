{
 "cells": [
  {
   "cell_type": "markdown",
   "id": "e871ca17",
   "metadata": {},
   "source": [
    "# 1. \n",
    "Consider stochastic gradient descent method to learn the house price model\n",
    "    $$\n",
    "    h(x_1, x_2)=\\sigma(b + w_1x_1 + w_2x_2),\n",
    "    $$\n",
    "    where $\\sigma$ is the sigmoid function.\n",
    "\n",
    "Given one single data point $(x_1, x_2, y)=(1, 2, 3)$, and assuming that the current parameter is $\\theta^0=(b, w_1, w_2)=(4, 5, 6)$,  \n",
    "evaluate $\\theta^1$.\n",
    "\n",
    ">Just write the expression and substitute the numbers; no need to simplify or evaluate."
   ]
  },
  {
   "cell_type": "markdown",
   "id": "36bc8a6e",
   "metadata": {},
   "source": [
    "## Solution 1\n",
    "We put $(x_1, x_2)$ into $h$ such that we have $$h(1,2)=\\sigma(4+5\\cdot 1+6\\cdot 2).$$  \n",
    "Then we have \n",
    "$$\\begin{aligned}\n",
    "    b^1 &= 4-\\alpha\\cdot(h(1,2)-3)\\\\\n",
    "    w_1^1 &= 5-\\alpha\\cdot(h(1,2)-3)\\cdot 1\\\\\n",
    "    w_2^1 &= 6-\\alpha\\cdot(h(1,2)-3)\\cdot 2\n",
    "\\end{aligned}$$"
   ]
  },
  {
   "cell_type": "markdown",
   "id": "fabb1b13",
   "metadata": {},
   "source": [
    "And we compute $\\nabla_{\\theta} h$, we get\n",
    "$$\n",
    "\\begin{aligned}\n",
    "    \\frac{\\partial h}{\\partial b} &= h(1-h)  \\\\\n",
    "    \\frac{\\partial h}{\\partial w_1} &= h(1-h)\\cdot x_1  \\\\\n",
    "    \\frac{\\partial h}{\\partial w_2} &= h(1-h)\\cdot x_2  \\\\\n",
    "\\end{aligned}\n",
    "$$"
   ]
  },
  {
   "cell_type": "markdown",
   "id": "5dddf953",
   "metadata": {},
   "source": [
    "Hence, \n",
    "$$\\theta^1=\n",
    "\\begin{bmatrix}\n",
    "4 \\\\ 5 \\\\ 6\n",
    "\\end{bmatrix}\n",
    "+ 2 \\alpha (3-h)\n",
    "\\begin{bmatrix}\n",
    "h(1-h) \\\\ h(1-h) \\\\ 2h(1-h)\n",
    "\\end{bmatrix},\n",
    "$$ \n",
    "where $h=h(1,2)$.  \n",
    "$\\square$"
   ]
  },
  {
   "cell_type": "markdown",
   "id": "1d1f523a",
   "metadata": {},
   "source": []
  }
 ],
 "metadata": {
  "language_info": {
   "name": "python"
  }
 },
 "nbformat": 4,
 "nbformat_minor": 5
}
