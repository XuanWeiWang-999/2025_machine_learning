{
 "cells": [
  {
   "cell_type": "markdown",
   "id": "2174870b",
   "metadata": {},
   "source": [
    "# 2.\n",
    "(a) Find the expression of $\\displaystyle\\frac{d^k}{dx^k}\\sigma$ in terms of $\\sigma(x)$ for $k=1,\\cdots,3$ where $\\sigma$ is the sigmoid function.  \n",
    "(b) Find the relation between sigmoid function and hyperbolic function."
   ]
  },
  {
   "cell_type": "markdown",
   "id": "fccb6ef9",
   "metadata": {},
   "source": [
    "## (a) solution"
   ]
  },
  {
   "cell_type": "markdown",
   "id": "089d307a",
   "metadata": {},
   "source": [
    "The sigmoid function $\\sigma(x)$ is defined as $$\\sigma(x)=\\frac{1}{1+e^{-x}}.$$  \n",
    "Then \n",
    "$$\n",
    "\\begin{aligned}\n",
    "\\sigma'(x) &= \\sigma(x)(1-\\sigma(x))\\\\\n",
    "\\sigma''(x) &= \\sigma'(x)(1-2\\sigma(x)) = \\sigma(x)(1-\\sigma(x))(1-2\\sigma(x))\\\\\n",
    "\\sigma'''(x) &= \\sigma''(x)(1-2\\sigma(x))-2(\\sigma'(x))^2 = \\sigma(x)(1-\\sigma(x))(1-6\\sigma'(x)+6\\sigma(x)^2)\n",
    "\\end{aligned}\n",
    "$$ \n",
    "$\\square$ "
   ]
  },
  {
   "cell_type": "markdown",
   "id": "f073f6cb",
   "metadata": {},
   "source": [
    "## (b) solution"
   ]
  },
  {
   "cell_type": "markdown",
   "id": "9d1501dd",
   "metadata": {},
   "source": [
    "Since $\\tanh(x)$ is the combination of both $\\sinh(x)$ and $\\cosh(x)$, we generally use $\\tanh(x)$ function to drive this question.  \n",
    "Then, we have $\\displaystyle\\tanh(\\frac{x}{2})=\\frac{e^{\\frac{x}{2}}-e^{\\frac{-x}{2}}}{e^{\\frac{x}{2}}+e^{\\frac{-x}{2}}}=\\frac{e^x-1}{e^x+1}.$  \n",
    "We do some math trick and get \n",
    "$$\n",
    "\\begin{aligned}\n",
    "    \\frac{1}{2}(1+\\tanh(\\frac{x}{2})) &= \\frac{1}{2}(1+\\frac{e^x-1}{e^x+1})\n",
    "                                    &= \\frac{e^x}{e^x+1}\n",
    "                                    &= \\sigma(x)\n",
    "\\end{aligned}\n",
    "$$\\\\\n",
    "$\\square$"
   ]
  }
 ],
 "metadata": {
  "language_info": {
   "name": "python"
  }
 },
 "nbformat": 4,
 "nbformat_minor": 5
}
