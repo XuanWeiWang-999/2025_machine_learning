{
 "cells": [
  {
   "cell_type": "markdown",
   "id": "3318510f",
   "metadata": {},
   "source": [
    "# 溫度分布-小時溫度觀測分析格點資料分析 313652018\n",
    "\n",
    "## 0.資料可視化\n",
    "先把xml資料讀出，畫熱圖(120*67)"
   ]
  },
  {
   "cell_type": "code",
   "execution_count": 8,
   "id": "9b8c3747",
   "metadata": {},
   "outputs": [],
   "source": [
    "import re, math, numpy as np\n",
    "import pandas as pd, matplotlib.pyplot as plt\n",
    "from pathlib import Path"
   ]
  },
  {
   "cell_type": "code",
   "execution_count": null,
   "id": "46e74382",
   "metadata": {},
   "outputs": [],
   "source": [
    "xml_"
   ]
  }
 ],
 "metadata": {
  "kernelspec": {
   "display_name": "ml_env",
   "language": "python",
   "name": "python3"
  },
  "language_info": {
   "codemirror_mode": {
    "name": "ipython",
    "version": 3
   },
   "file_extension": ".py",
   "mimetype": "text/x-python",
   "name": "python",
   "nbconvert_exporter": "python",
   "pygments_lexer": "ipython3",
   "version": "3.10.18"
  }
 },
 "nbformat": 4,
 "nbformat_minor": 5
}
