{
 "cells": [
  {
   "cell_type": "markdown",
   "id": "f16a5be8",
   "metadata": {},
   "source": []
  },
  {
   "cell_type": "markdown",
   "id": "190e608f",
   "metadata": {},
   "source": []
  },
  {
   "cell_type": "markdown",
   "id": "2d99b155",
   "metadata": {},
   "source": []
  },
  {
   "cell_type": "markdown",
   "id": "9d3ce702",
   "metadata": {},
   "source": []
  },
  {
   "cell_type": "markdown",
   "id": "a7b06308",
   "metadata": {},
   "source": []
  },
  {
   "cell_type": "markdown",
   "id": "4a22d493",
   "metadata": {},
   "source": []
  }
 ],
 "metadata": {
  "language_info": {
   "name": "python"
  }
 },
 "nbformat": 4,
 "nbformat_minor": 5
}
