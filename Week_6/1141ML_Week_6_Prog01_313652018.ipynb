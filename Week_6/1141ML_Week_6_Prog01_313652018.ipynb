{
 "cells": [
  {
   "cell_type": "markdown",
   "id": "71ffb512",
   "metadata": {},
   "source": [
    "# Week 4 - Programming question 1\n",
    ">Consider again the data set in *week 4 assignment*, and recall that we have transformed the data into classification and regression sets.  "
   ]
  },
  {
   "cell_type": "markdown",
   "id": "7a887aad",
   "metadata": {},
   "source": [
    "## Classfication using GDA\n",
    "Your task is to use Gaussian Discriminant Analysis (GDA) to build a classification model. To complete this assignment, make sure you:\n",
    "* a) Write your own code to implement the GDA algorithm. (Do not use built-in classification functions.)\n",
    "* b) Clearly explain how the GDA model works and why it can be used for classification, in particular this data set.\n",
    "* c) Train your model on the given dataset and report its accuracy. Be explicit about how you measure performance (e.g., accuracy on a test set, cross-validation, etc.).\n",
    "* d) Plot the decision boundary of your model and include the visualization in your report."
   ]
  },
  {
   "cell_type": "code",
   "execution_count": 3,
   "id": "5d285ca0",
   "metadata": {},
   "outputs": [],
   "source": [
    "import re, math, numpy as np\n",
    "import pandas as pd, matplotlib.pyplot as plt\n",
    "from pathlib import Path\n",
    "df_cls = pd.read_csv(\"classification_dataset.csv\")"
   ]
  },
  {
   "cell_type": "code",
   "execution_count": null,
   "id": "9b464d33",
   "metadata": {},
   "outputs": [],
   "source": []
  }
 ],
 "metadata": {
  "kernelspec": {
   "display_name": "ml_env",
   "language": "python",
   "name": "python3"
  },
  "language_info": {
   "codemirror_mode": {
    "name": "ipython",
    "version": 3
   },
   "file_extension": ".py",
   "mimetype": "text/x-python",
   "name": "python",
   "nbconvert_exporter": "python",
   "pygments_lexer": "ipython3",
   "version": "3.10.18"
  }
 },
 "nbformat": 4,
 "nbformat_minor": 5
}
