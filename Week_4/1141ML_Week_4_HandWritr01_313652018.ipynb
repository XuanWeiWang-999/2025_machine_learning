{
 "cells": [
  {
   "cell_type": "markdown",
   "id": "84e7392b",
   "metadata": {},
   "source": [
    "# Unanswered Question"
   ]
  },
  {
   "cell_type": "markdown",
   "id": "6ea2b599",
   "metadata": {},
   "source": [
    "## High-dimensional sparsity problem in one-hot encoding:\n",
    "When the number of categories is very large (e.g., tens of thousands of words in NLP), one-hot encoding produces extremely high-dimensional sparse vectors. This leads to inefficient memory usage and difficulties in capturing meaningful relationships between categories.  \n",
    "\n",
    "Or maybe in implementation, we usually don't use one-hot encoding?"
   ]
  },
  {
   "cell_type": "markdown",
   "id": "40a67316",
   "metadata": {},
   "source": []
  }
 ],
 "metadata": {
  "language_info": {
   "name": "python"
  }
 },
 "nbformat": 4,
 "nbformat_minor": 5
}
