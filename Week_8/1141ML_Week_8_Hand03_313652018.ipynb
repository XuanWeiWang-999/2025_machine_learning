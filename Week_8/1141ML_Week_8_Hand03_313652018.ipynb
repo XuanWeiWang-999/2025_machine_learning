{
 "cells": [
  {
   "cell_type": "markdown",
   "id": "e420651f",
   "metadata": {},
   "source": [
    "# Written assignment 2: Unanswered question"
   ]
  },
  {
   "cell_type": "markdown",
   "id": "00518adc",
   "metadata": {},
   "source": [
    "Why does taking the expectation over random directions \n",
    "$v$ in sliced score matching approximate the original score matching objective?"
   ]
  }
 ],
 "metadata": {
  "language_info": {
   "name": "python"
  }
 },
 "nbformat": 4,
 "nbformat_minor": 5
}
