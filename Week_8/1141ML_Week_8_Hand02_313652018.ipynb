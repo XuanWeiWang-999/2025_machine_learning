{
 "cells": [
  {
   "cell_type": "markdown",
   "id": "aed0bc5b",
   "metadata": {},
   "source": [
    "# Written assignment 2: Briefly explain SDE"
   ]
  },
  {
   "cell_type": "markdown",
   "id": "827b3caa",
   "metadata": {},
   "source": [
    "## Stochastic differential equation (SDE)"
   ]
  },
  {
   "cell_type": "markdown",
   "id": "05c74439",
   "metadata": {},
   "source": [
    "Basic form: $$dX_t=\\mu(X_t, t)dt+\\sigma(X_t,t)dW_t,$$ where \n",
    "* $\\mu(X_t,t)$: **drift term**, present the average of rate of change\n",
    "* $\\sigma(X_t,t)$: **difffusion term**, present the strength of disturbance\n",
    "* $W_t$: Bronian motion\n",
    "\n",
    "The SDE describes a dynamic system ***influenced by both deterministic and stochastic factors.***"
   ]
  },
  {
   "cell_type": "markdown",
   "id": "9b6304ce",
   "metadata": {},
   "source": [
    "## Derivation of SDE"
   ]
  },
  {
   "cell_type": "markdown",
   "id": "7d0e2185",
   "metadata": {},
   "source": [
    "Since the Bronian motion $W_t$ is not differentiable, the Ito's formula defines $$X_t=X_0+\\int^{t}_{0}\\mu(X_s,s)ds+\\int^{t}_{0}\\sigma(X_s,s)dW_s.$$\n",
    "\n",
    "Then for any differentiable function $f(X_t,t)$, by Ito's formula, we have $$df(X_t,t)=\\big(\\frac{\\partial f}{\\partial t}+\\mu\\frac{\\partial f}{\\partial X}+\\frac{1}{2}\\sigma^2\\frac{\\partial^2 f}{\\partial X^2} \\big)dt+\\sigma\\frac{\\partial f}{\\partial X}dW_t.$$"
   ]
  },
  {
   "cell_type": "markdown",
   "id": "cd17701b",
   "metadata": {},
   "source": [
    "## Goal"
   ]
  },
  {
   "cell_type": "markdown",
   "id": "e4e53eee",
   "metadata": {},
   "source": [
    "The main goal of SDE is to describe the dynamic motion of a random process. For example:  \n",
    "1. Simulate the trajectory: generate possible random trajectory $\\{X_t\\}_{t\\geq 0}$\n",
    "2. Estimate the expectation value: research for $\\mathbb{E}[X_t]$ or the density $p(x,t)$, such that it satisfies **Fokker-Planck equation** $$\\frac{\\partial p}{\\partial t}=-\\frac{\\partial}{\\partial x}(\\mu p)+\\frac{1}{2}\\frac{\\partial^2}{\\partial x^2}(\\sigma^2 p).$$ Note that the last term is a heat equation."
   ]
  },
  {
   "cell_type": "markdown",
   "id": "127508e3",
   "metadata": {},
   "source": [
    "## Code Simulation"
   ]
  },
  {
   "cell_type": "markdown",
   "id": "83966a62",
   "metadata": {},
   "source": [
    "### Eular-Maruyama\n",
    "$$X_{n+1}=X_{n}+f(X_{n}, t_n)\\Delta t + G(X_{n}, t_n)\\sqrt{\\Delta t}Z(t_n),$$"
   ]
  },
  {
   "cell_type": "code",
   "execution_count": 2,
   "id": "c3fab126",
   "metadata": {},
   "outputs": [
    {
     "name": "stdout",
     "output_type": "stream",
     "text": [
      "[1.         1.00579386 0.99870709 ... 1.14148655 1.14266156 1.14396888]\n"
     ]
    }
   ],
   "source": [
    "import numpy as np\n",
    "\n",
    "def simulate_gbm(S0=1.0, mu=0.05, sigma=0.2, T=1.0, N=1000):\n",
    "    dt = T / N\n",
    "    S = np.empty(N+1); S[0] = S0\n",
    "    for n in range(N):\n",
    "        dW = np.sqrt(dt) * np.random.randn()\n",
    "        S[n+1] = S[n] + mu*S[n]*dt + sigma*S[n]*dW\n",
    "    return S\n",
    "\n",
    "S=simulate_gbm()\n",
    "print(S)"
   ]
  },
  {
   "cell_type": "code",
   "execution_count": null,
   "id": "7e571559",
   "metadata": {},
   "outputs": [],
   "source": []
  }
 ],
 "metadata": {
  "kernelspec": {
   "display_name": "ml_env",
   "language": "python",
   "name": "python3"
  },
  "language_info": {
   "codemirror_mode": {
    "name": "ipython",
    "version": 3
   },
   "file_extension": ".py",
   "mimetype": "text/x-python",
   "name": "python",
   "nbconvert_exporter": "python",
   "pygments_lexer": "ipython3",
   "version": "3.10.18"
  }
 },
 "nbformat": 4,
 "nbformat_minor": 5
}
