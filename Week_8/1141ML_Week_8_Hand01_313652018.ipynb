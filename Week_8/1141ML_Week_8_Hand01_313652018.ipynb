{
 "cells": [
  {
   "cell_type": "markdown",
   "id": "b1c76024",
   "metadata": {},
   "source": [
    "# Written assignment 1: Score matching loss"
   ]
  },
  {
   "cell_type": "markdown",
   "id": "38a5c1ab",
   "metadata": {},
   "source": [
    "## Lemma\n",
    "\n",
    "In the class Week7-2, we finally define teh sliced score matching loss as $$L_{SSM}(\\theta)=\\mathbb{E}_{x\\sim p(x)}||S(x;\\theta)||^2+\\mathbb{E}_{x\\sim p(x)}\\mathbb{E}_{v\\sim p(v)}[2v^{T}\\nabla_{x}(v^T(S(x;\\theta)))]$$"
   ]
  },
  {
   "cell_type": "markdown",
   "id": "2c829c56",
   "metadata": {},
   "source": [
    "## Resort\n",
    "Then, from this form, we can seperate the terms by the linearity of expectation value and rewrite it as $$L_{SSM}(\\theta)=\\mathbb{E}_{x\\sim p(x)}\\big(||S(x;\\theta)||^2+\\mathbb{E}_{v\\sim p(v)}[2v^{T}\\nabla_{x}(v^T(S(x;\\theta)))]\\big)$$"
   ]
  },
  {
   "cell_type": "markdown",
   "id": "00d0dfb8",
   "metadata": {},
   "source": [
    "For the term $||(S;\\theta)||^2$, we need to make it related with $\\mathbb{E}_{v\\sim p(v)}$."
   ]
  },
  {
   "cell_type": "markdown",
   "id": "7d595831",
   "metadata": {},
   "source": []
  }
 ],
 "metadata": {
  "language_info": {
   "name": "python"
  }
 },
 "nbformat": 4,
 "nbformat_minor": 5
}
