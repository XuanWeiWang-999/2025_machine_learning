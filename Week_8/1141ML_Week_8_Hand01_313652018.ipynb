{
 "cells": [
  {
   "cell_type": "markdown",
   "id": "b1c76024",
   "metadata": {},
   "source": [
    "# Written assignment 1: Score matching loss"
   ]
  },
  {
   "cell_type": "markdown",
   "id": "38a5c1ab",
   "metadata": {},
   "source": [
    "## Lemma\n",
    "\n",
    "In the class Week7-2, we finally define teh sliced score matching loss as $$L_{SSM}(\\theta)=\\mathbb{E}_{x\\sim p(x)}||S(x;\\theta)||^2+\\mathbb{E}_{x\\sim p(x)}\\mathbb{E}_{v\\sim p(v)}[2v^{T}\\nabla_{x}(v^T(S(x;\\theta)))]$$"
   ]
  },
  {
   "cell_type": "markdown",
   "id": "2c829c56",
   "metadata": {},
   "source": [
    "## Resort\n",
    "Then, from this form, we can seperate the terms by the linearity of expectation value and rewrite it as $$L_{SSM}(\\theta)=\\mathbb{E}_{x\\sim p(x)}\\big(||S(x;\\theta)||^2+\\mathbb{E}_{v\\sim p(v)}[2v^{T}\\nabla_{x}(v^T(S(x;\\theta)))]\\big)$$"
   ]
  },
  {
   "cell_type": "markdown",
   "id": "00d0dfb8",
   "metadata": {},
   "source": [
    "For the term $||S(x;\\theta)||^2$, we need to make it related with $\\mathbb{E}_{v\\sim p(v)}$.  \n",
    "Note that $S(x;\\theta)=(s_1(x), s_2(x),\\cdots, s_d(x))^T$, so $$||S(x;\\theta)||^2=s_1^2+s_2^2+\\cdots+s_d^2.$$\n",
    "\n",
    "Then if we take $v\\in\\mathbb{R}^d\\sim N(0,1)$ be a random vector s.t. $\\mathbb{E}_{v\\sim p(v)}[vv^T]=I$, then we have $$v^TS=\\displaystyle\\sum_i v_is_i, $$\n",
    "\n",
    "and take square, $$(v^TS)^2=\\displaystyle\\sum_i\\sum_j v_i v_j s_i s_j, $$\n",
    "\n",
    "and take the expectation value to $v$, $$\\mathbb{E}_{v}[(v^TS)^2]=\\displaystyle\\sum_i\\sum_j \\mathbb{E}[v_i v_j] s_i s_j=\\displaystyle\\sum_i s_i^2=||S||^2,$$ where $\\mathbb{E}[v_iv_j]=1$ only when $i=j$."
   ]
  },
  {
   "cell_type": "markdown",
   "id": "7d595831",
   "metadata": {},
   "source": [
    "Therefore, we have \n",
    "$$\n",
    "\\begin{aligned}\n",
    "L_{SSM}(\\theta)&=\\mathbb{E}_{x\\sim p(x)}\\big(||S(x;\\theta)||^2+\\mathbb{E}_{v\\sim p(v)}[2v^{T}\\nabla_{x}(v^T(S(x;\\theta)))]\\big)\\\\\n",
    "&=\\mathbb{E}_{x\\sim p(x)}\\mathbb{E}_{v\\sim p(v)}\\big(||v^TS(x;\\theta)||^2+[2v^{T}\\nabla_{x}(v^T(S(x;\\theta)))]\\big)\n",
    "\n",
    "\n",
    "\\end{aligned}\n",
    "$$"
   ]
  },
  {
   "cell_type": "markdown",
   "id": "eee5ced2",
   "metadata": {},
   "source": [
    "$\\blacksquare$"
   ]
  },
  {
   "cell_type": "markdown",
   "id": "b828e253",
   "metadata": {},
   "source": []
  }
 ],
 "metadata": {
  "language_info": {
   "name": "python"
  }
 },
 "nbformat": 4,
 "nbformat_minor": 5
}
