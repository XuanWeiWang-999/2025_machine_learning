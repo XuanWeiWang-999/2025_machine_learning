{
 "cells": [
  {
   "cell_type": "markdown",
   "id": "d4ac6be9",
   "metadata": {},
   "source": [
    "# Problem 2.\n",
    "Let $A,B$ be $n\\text{-by-}n$ matrices and $x$ be a $n\\text{-by-}1$ vector"
   ]
  },
  {
   "cell_type": "markdown",
   "id": "01e8216d",
   "metadata": {},
   "source": [
    "## (a) Show that \n",
    "$\\frac{\\partial}{\\partial A}\\text{trace}(AB)=B^T$"
   ]
  },
  {
   "cell_type": "markdown",
   "id": "44ed4e5f",
   "metadata": {},
   "source": []
  },
  {
   "cell_type": "markdown",
   "id": "672f0adb",
   "metadata": {},
   "source": []
  },
  {
   "cell_type": "markdown",
   "id": "7f7408c0",
   "metadata": {},
   "source": []
  }
 ],
 "metadata": {
  "language_info": {
   "name": "python"
  }
 },
 "nbformat": 4,
 "nbformat_minor": 5
}
