{
 "cells": [
  {
   "cell_type": "markdown",
   "id": "d4ac6be9",
   "metadata": {},
   "source": [
    "# Problem 2.\n",
    "Let $A,B$ be $n\\text{-by-}n$ matrices and $x$ be a $n\\text{-by-}1$ vector"
   ]
  },
  {
   "cell_type": "markdown",
   "id": "01e8216d",
   "metadata": {},
   "source": [
    "## (a) Show that \n",
    "$\\frac{\\partial}{\\partial A}\\text{trace}(AB)=B^T$"
   ]
  },
  {
   "cell_type": "markdown",
   "id": "44ed4e5f",
   "metadata": {},
   "source": [
    "### Solution\n",
    "For $i,j=1,...,n$, we have\n",
    "\n",
    "\\begin{aligned}\n",
    "(\\frac{\\partial(\\mathrm{tr}AB)}{\\partial(A)})_{ij} &=\\frac{\\partial(\\mathrm{tr}AB)}{\\partial A_{ij}}=\\frac{\\partial\\sum_k\\sum_l a_{kl}b_{lk}}{\\partial a_{ij}}\\\\\n",
    "&=\\sum_{k}\\sum_{l}\\frac{a_{kl}}{a_{ij}}b_{lk}\\\\\n",
    "&=\\sum_{k}\\sum_{l}\\delta_{ki}\\delta_{lj}b_{lk}\\\\\n",
    "&=b_{ji}=(B^T)_{ij}\n",
    "\\end{aligned}\n",
    "$\\blacksquare$"
   ]
  },
  {
   "cell_type": "markdown",
   "id": "672f0adb",
   "metadata": {},
   "source": [
    "## (b) Show that\n",
    "$x^T Ax=\\mathrm{tr}(xx^TA)$"
   ]
  },
  {
   "cell_type": "markdown",
   "id": "7f7408c0",
   "metadata": {},
   "source": [
    "### Solution\n",
    "\n",
    "\n",
    "Because $x^{\\mathsf T} A x$ is a scalar, $\\mathrm{tr}(x^{\\mathsf T} A x)=x^{\\mathsf T} A x$.\n",
    "Use the property of trace ($\\mathrm{tr}AB=\\mathrm{tr}BA$):\n",
    "$$\n",
    "x^{\\mathsf T} A x\n",
    "= \\mathrm{tr}(x^{\\mathsf T} A x)\n",
    "= \\mathrm{tr}(A x x^{\\mathsf T})\n",
    "= \\mathrm{tr}(x x^{\\mathsf T} A).\n",
    "$$\n",
    "Hence $x^{\\mathsf T} A x=\\mathrm{tr}(x x^{\\mathsf T} A)$.\n",
    "\n",
    "$\\blacksquare$\n",
    "\n",
    "\n"
   ]
  },
  {
   "cell_type": "markdown",
   "id": "fae03689",
   "metadata": {},
   "source": [
    "## (c) Derive the maximum likelihood estimators for a multivariate Gaussian."
   ]
  },
  {
   "cell_type": "markdown",
   "id": "754977fb",
   "metadata": {},
   "source": []
  }
 ],
 "metadata": {
  "language_info": {
   "name": "python"
  }
 },
 "nbformat": 4,
 "nbformat_minor": 5
}
