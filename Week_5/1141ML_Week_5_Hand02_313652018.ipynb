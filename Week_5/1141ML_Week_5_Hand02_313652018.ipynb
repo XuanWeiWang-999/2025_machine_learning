{
 "cells": [
  {
   "cell_type": "markdown",
   "id": "d4ac6be9",
   "metadata": {},
   "source": [
    "# Problem 2.\n",
    "Let $A,B$ be $n\\text{-by-}n$ matrices and $x$ be a $n\\text{-by-}1$ vector"
   ]
  },
  {
   "cell_type": "markdown",
   "id": "01e8216d",
   "metadata": {},
   "source": [
    "## (a) Show that \n",
    "$\\frac{\\partial}{\\partial A}\\text{trace}(AB)=B^T$"
   ]
  },
  {
   "cell_type": "markdown",
   "id": "44ed4e5f",
   "metadata": {},
   "source": [
    "### Solution\n",
    "For $i,j=1,...,n$, we have\n",
    "\n",
    "\\begin{aligned}\n",
    "(\\frac{\\partial(\\mathrm{tr}AB)}{\\partial(A)})_{ij} &=\\frac{\\partial(\\mathrm{tr}AB)}{\\partial A_{ij}}=\\frac{\\partial\\sum_k\\sum_l a_{kl}b_{lk}}{\\partial a_{ij}}\\\\\n",
    "&=\\sum_{k}\\sum_{l}\\frac{a_{kl}}{a_{ij}}b_{lk}\\\\\n",
    "&=\\sum_{k}\\sum_{l}\\delta_{ki}\\delta_{lj}b_{lk}\\\\\n",
    "&=b_{ji}=(B^T)_{ij}\n",
    "\\end{aligned}\n",
    "$\\blacksquare$"
   ]
  },
  {
   "cell_type": "markdown",
   "id": "672f0adb",
   "metadata": {},
   "source": [
    "## (b) Show that\n",
    "$x^T Ax=\\mathrm{tr}(xx^TA)$"
   ]
  },
  {
   "cell_type": "markdown",
   "id": "7f7408c0",
   "metadata": {},
   "source": [
    "### Solution\n",
    "\n",
    "\n",
    "Because $x^{\\mathsf T} A x$ is a scalar, $\\mathrm{tr}(x^{\\mathsf T} A x)=x^{\\mathsf T} A x$.\n",
    "Use the property of trace ($\\mathrm{tr}AB=\\mathrm{tr}BA$):\n",
    "$$\n",
    "x^{\\mathsf T} A x\n",
    "= \\mathrm{tr}(x^{\\mathsf T} A x)\n",
    "= \\mathrm{tr}(A x x^{\\mathsf T})\n",
    "= \\mathrm{tr}(x x^{\\mathsf T} A).\n",
    "$$\n",
    "Hence $x^{\\mathsf T} A x=\\mathrm{tr}(x x^{\\mathsf T} A)$.\n",
    "\n",
    "$\\blacksquare$\n",
    "\n",
    "\n"
   ]
  },
  {
   "cell_type": "markdown",
   "id": "fae03689",
   "metadata": {},
   "source": [
    "## (c) Derive the maximum likelihood estimators for a multivariate Gaussian."
   ]
  },
  {
   "cell_type": "markdown",
   "id": "52baf23d",
   "metadata": {},
   "source": [
    "\n",
    "\n",
    "**Setup**\n",
    "\n",
    "$$x_1,\\dots,x_m \\stackrel{\\text{i.i.d.}}{\\sim} \\mathcal N(\\mu,\\Sigma),\\qquad \\Sigma\\succ0.$$\n",
    "\n",
    "**Log-likelihood**\n",
    "\n",
    "$$\n",
    "\\ell(\\mu,\\Sigma)\n",
    "= -\\frac{mk}{2}\\log(2\\pi)-\\frac{m}{2}\\log|\\Sigma|\n",
    "-\\frac12\\sum_{i=1}^m (x_i-\\mu)^{\\mathsf T}\\Sigma^{-1}(x_i-\\mu).\n",
    "$$\n",
    "\n",
    "We use the result of (b) rewrite, \n",
    "\n",
    "$$\n",
    "S_\\mu:=\\sum_{i=1}^m (x_i-\\mu)(x_i-\\mu)^{\\mathsf T},\n",
    "\\qquad\n",
    "\\sum_{i=1}^m (x_i-\\mu)^{\\mathsf T}\\Sigma^{-1}(x_i-\\mu)\n",
    "=\\operatorname{tr}\\!\\big(\\Sigma^{-1}S_\\mu\\big).\n",
    "$$\n",
    "\n",
    "\n"
   ]
  },
  {
   "cell_type": "markdown",
   "id": "f2beef59",
   "metadata": {},
   "source": [
    "Then we solve the $\\mu$, \n",
    "\n",
    "$$\n",
    "\\frac{\\partial \\ell}{\\partial \\mu}\n",
    "= \\Sigma^{-1}\\sum_{i=1}^m (x_i-\\mu)=0\n",
    "\\;\\;\\Rightarrow\\;\\;\n",
    "\\widehat\\mu=\\bar x:=\\frac1m\\sum_{i=1}^m x_i.\n",
    "$$\n",
    "\n",
    "And for $\\sigma$, we use the result of (a) to get\n",
    "\n",
    "$$\n",
    "\\frac{\\partial}{\\partial \\Sigma}\\log|\\Sigma|=\\Sigma^{-{\\mathsf T}},\\qquad\n",
    "\\frac{\\partial}{\\partial \\Sigma}\\operatorname{tr}(\\Sigma^{-1}S_\\mu)\n",
    "=-(\\Sigma^{-1} S_\\mu \\Sigma^{-1})^{\\mathsf T}.\n",
    "$$\n",
    "\n"
   ]
  },
  {
   "cell_type": "markdown",
   "id": "49c51c05",
   "metadata": {},
   "source": [
    "Hence the first-order condition is \n",
    "\n",
    "$$\n",
    "\\frac{\\partial \\ell}{\\partial \\Sigma}\n",
    "= -\\frac{m}{2}\\Sigma^{-{\\mathsf T}}\n",
    "+\\frac{1}{2}(\\Sigma^{-1}S_\\mu\\Sigma^{-1})^{\\mathsf T} = 0.\n",
    "$$\n"
   ]
  },
  {
   "cell_type": "markdown",
   "id": "e35efccd",
   "metadata": {},
   "source": [
    "By the similarty, we may have\n",
    "\n",
    "$$\n",
    "-\\frac{m}{2}I+\\frac{1}{2}\\Sigma^{-1}S_\\mu=0\n",
    "\\;\\;\\Rightarrow\\;\\;\n",
    "\\widehat\\Sigma=\\frac{1}{m}S_{\\widehat\\mu}\n",
    "=\\frac{1}{m}\\sum_{i=1}^m (x_i-\\bar x)(x_i-\\bar x)^{\\mathsf T}.\n",
    "$$\n"
   ]
  },
  {
   "cell_type": "markdown",
   "id": "182922c4",
   "metadata": {},
   "source": [
    "**Result**\n",
    "\n",
    "$$\n",
    "\\boxed{\\;\\widehat\\mu=\\bar x,\\qquad\n",
    "\\widehat\\Sigma=\\frac{1}{m}\\sum_{i=1}^m (x_i-\\bar x)(x_i-\\bar x)^{\\mathsf T}\\;}\n",
    "$$\n",
    "$\\blacksquare$"
   ]
  },
  {
   "cell_type": "markdown",
   "id": "ee11516f",
   "metadata": {},
   "source": []
  }
 ],
 "metadata": {
  "language_info": {
   "name": "python"
  }
 },
 "nbformat": 4,
 "nbformat_minor": 5
}
