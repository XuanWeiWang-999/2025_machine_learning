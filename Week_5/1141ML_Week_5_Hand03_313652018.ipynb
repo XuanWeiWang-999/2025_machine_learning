{
 "cells": [
  {
   "cell_type": "markdown",
   "id": "223ad785",
   "metadata": {},
   "source": [
    "# Problem 3. Unanswered Questions"
   ]
  },
  {
   "cell_type": "markdown",
   "id": "f43df132",
   "metadata": {},
   "source": [
    "## Identifiability of two-class GDA with unknown label noise\n",
    "\n",
    "We observe i.i.d. pairs $(x_i,\\tilde y_i)$ where the **true** label $y\\in\\{0,1\\}$ is flipped by an **unknown** $2\\times2$ noise/confusion matrix $T$ to produce the **observed** label $\\tilde y$. The generative model is:\n",
    "$$\n",
    "y\\sim\\mathrm{Bernoulli}(\\pi),\\qquad x\\mid y=k \\sim \\mathcal N(\\mu_k,\\Sigma_k),\\ k\\in\\{0,1\\},\n",
    "$$\n",
    "and\n",
    "$$\n",
    "\\Pr(\\tilde y=j\\mid y=k)=T_{jk},\\quad T\\ \\text{column-stochastic}.\n",
    "$$\n",
    "Hence the observed joint density is\n",
    "$$\n",
    "p(x,\\tilde y=j)=\\sum_{k\\in\\{0,1\\}}\\pi_k\\,T_{jk}\\,\\mathcal N(x;\\mu_k,\\Sigma_k).\n",
    "$$\n",
    "\n",
    "**The question.** From $p(x,\\tilde y)$ alone, are the parameters $\\{\\pi,\\mu_0,\\mu_1,\\Sigma_0,\\Sigma_1\\}$ and the unknown noise matrix $T$ **uniquely determined up to a swap of class labels**? If not always, **what are the weakest (minimal) assumptions** under which this identifiability holds?\n",
    "\n",
    "Typical minimal assumptions one might consider include:\n",
    "- **Nondegenerate noise:** $T$ is invertible and diagonally dominant (e.g., $T_{00},T_{11}>\\tfrac12$).  \n",
    "- **Distinct components:** $(\\mu_0,\\Sigma_0)\\neq(\\mu_1,\\Sigma_1)$ (e.g., separated means and/or unequal covariances).  \n",
    "- **Model restriction or tiny side info:** for LDA ($\\Sigma_0=\\Sigma_1$), identifiability can fail with unknown symmetric noise; adding a small clean seed set, known prior $\\pi$, or bounds on the noise rate can restore identifiability.\n",
    "\n",
    "The core difficulty is that for each observed label $j$,\n",
    "$$\n",
    "p(x\\mid \\tilde y=j)\\ \\propto\\ \\pi_0 T_{j0}\\,\\mathcal N(x;\\mu_0,\\Sigma_0)\\ +\\ \\pi_1 T_{j1}\\,\\mathcal N(x;\\mu_1,\\Sigma_1),\n",
    "$$\n",
    "so we only see **two mixtures sharing the same Gaussian components but with unknown weights**—the task is to decide when those shared components and the mixing (i.e., $T$ and $\\pi$) are uniquely recoverable.\n"
   ]
  },
  {
   "cell_type": "markdown",
   "id": "f342cbe4",
   "metadata": {},
   "source": [
    "**Remark:** the original question is sorted and extend by ChatGPT."
   ]
  },
  {
   "cell_type": "markdown",
   "id": "cb43d83a",
   "metadata": {},
   "source": []
  }
 ],
 "metadata": {
  "language_info": {
   "name": "python"
  }
 },
 "nbformat": 4,
 "nbformat_minor": 5
}
