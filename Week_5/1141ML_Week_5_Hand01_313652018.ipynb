{
 "cells": [
  {
   "cell_type": "markdown",
   "id": "a4fae2cb",
   "metadata": {},
   "source": [
    " "
   ]
  }
 ],
 "metadata": {
  "language_info": {
   "name": "python"
  }
 },
 "nbformat": 4,
 "nbformat_minor": 5
}
